{
 "cells": [
  {
   "cell_type": "markdown",
   "id": "38e9d23b-c9dc-439e-9bde-a1b4bc21444c",
   "metadata": {},
   "source": [
    "## Use the request library to download web pages"
   ]
  },
  {
   "cell_type": "code",
   "execution_count": 1,
   "id": "123de564-8432-4d20-8818-d96af815ad78",
   "metadata": {},
   "outputs": [],
   "source": [
    "import requests"
   ]
  },
  {
   "cell_type": "code",
   "execution_count": 2,
   "id": "90d01cff-01db-4a31-b258-ab59abe6121d",
   "metadata": {},
   "outputs": [],
   "source": [
    "topics_url = 'https://github.com/topics'"
   ]
  },
  {
   "cell_type": "code",
   "execution_count": 3,
   "id": "2df40891-1588-4b1c-bcc4-1ce6f090c574",
   "metadata": {},
   "outputs": [],
   "source": [
    "response = requests.get(topics_url)"
   ]
  },
  {
   "cell_type": "code",
   "execution_count": 4,
   "id": "270952a9-e7ab-42f7-ad5a-fa978ac475a9",
   "metadata": {},
   "outputs": [],
   "source": [
    "## check the status code"
   ]
  },
  {
   "cell_type": "code",
   "execution_count": 5,
   "id": "9441329e-93d2-418a-beec-73c9ccec981e",
   "metadata": {},
   "outputs": [
    {
     "data": {
      "text/plain": [
       "200"
      ]
     },
     "execution_count": 5,
     "metadata": {},
     "output_type": "execute_result"
    }
   ],
   "source": [
    "response.status_code"
   ]
  },
  {
   "cell_type": "code",
   "execution_count": 50,
   "id": "94714d67-897b-4e43-a25e-2c6b71af1563",
   "metadata": {},
   "outputs": [],
   "source": [
    "page_contents = response.text"
   ]
  },
  {
   "cell_type": "code",
   "execution_count": 7,
   "id": "7300ee44-0ce4-479b-ab11-4b9d4091a8f1",
   "metadata": {},
   "outputs": [],
   "source": [
    "with open('webpage.html', 'w' , encoding='utf-8') as f:\n",
    "    f.write(page_contents)"
   ]
  },
  {
   "cell_type": "markdown",
   "id": "d7aceb05-ff8e-4bf0-8aac-ee31ec6311bc",
   "metadata": {},
   "source": [
    "## using beautiful soup to extract information"
   ]
  },
  {
   "cell_type": "code",
   "execution_count": 8,
   "id": "8d235e8d-8929-4f85-9220-47a8d071a984",
   "metadata": {},
   "outputs": [
    {
     "name": "stdout",
     "output_type": "stream",
     "text": [
      "Requirement already satisfied: beautifulsoup4 in c:\\users\\panki\\appdata\\local\\programs\\python\\python312\\lib\\site-packages (4.12.3)\n",
      "Requirement already satisfied: soupsieve>1.2 in c:\\users\\panki\\appdata\\local\\programs\\python\\python312\\lib\\site-packages (from beautifulsoup4) (2.5)\n"
     ]
    },
    {
     "name": "stderr",
     "output_type": "stream",
     "text": [
      "\n",
      "[notice] A new release of pip is available: 24.0 -> 24.1.2\n",
      "[notice] To update, run: python.exe -m pip install --upgrade pip\n"
     ]
    }
   ],
   "source": [
    "!pip install beautifulsoup4 --upgrade"
   ]
  },
  {
   "cell_type": "code",
   "execution_count": 9,
   "id": "934cbbf0-adb1-4b97-bb01-274eb0ba0ea7",
   "metadata": {},
   "outputs": [],
   "source": [
    "from bs4 import BeautifulSoup"
   ]
  },
  {
   "cell_type": "markdown",
   "id": "68af6ea0-7315-4a4b-9feb-01c6b2013822",
   "metadata": {},
   "source": [
    "## Topic Title Selector"
   ]
  },
  {
   "cell_type": "code",
   "execution_count": 10,
   "id": "6e89e8db-9048-4ef8-beee-8074f70453a0",
   "metadata": {},
   "outputs": [
    {
     "data": {
      "text/plain": [
       "[<p class=\"f3 lh-condensed mb-0 mt-1 Link--primary\">3D</p>,\n",
       " <p class=\"f3 lh-condensed mb-0 mt-1 Link--primary\">Ajax</p>,\n",
       " <p class=\"f3 lh-condensed mb-0 mt-1 Link--primary\">Algorithm</p>,\n",
       " <p class=\"f3 lh-condensed mb-0 mt-1 Link--primary\">Amp</p>,\n",
       " <p class=\"f3 lh-condensed mb-0 mt-1 Link--primary\">Android</p>]"
      ]
     },
     "execution_count": 10,
     "metadata": {},
     "output_type": "execute_result"
    }
   ],
   "source": [
    "doc = BeautifulSoup(page_contents , 'html.parser')\n",
    "selection_class = 'f3 lh-condensed mb-0 mt-1 Link--primary'\n",
    "topic_title_tags = doc.find_all('p' , {'class' : selection_class})\n",
    "topic_title_tags[:5]"
   ]
  },
  {
   "cell_type": "markdown",
   "id": "57087322-4da1-435d-82a7-cc0a245b45c2",
   "metadata": {},
   "source": [
    "## Topic Description Selector"
   ]
  },
  {
   "cell_type": "code",
   "execution_count": 11,
   "id": "52bed30e-4521-4392-affa-d0a868df5cc3",
   "metadata": {},
   "outputs": [
    {
     "data": {
      "text/plain": [
       "'\\n          3D refers to the use of three-dimensional graphics, modeling, and animation in various industries.\\n        '"
      ]
     },
     "execution_count": 11,
     "metadata": {},
     "output_type": "execute_result"
    }
   ],
   "source": [
    "desc_selector = 'f5 color-fg-muted mb-0 mt-1'\n",
    "topic_desc_tags = doc.find_all('p' , {'class' : desc_selector})\n",
    "topic_desc_tags[0].text\n",
    "# len(topic_desc_tags)"
   ]
  },
  {
   "cell_type": "markdown",
   "id": "b79caa10-5a20-4553-afd0-15b8385e12ad",
   "metadata": {},
   "source": [
    "## Topic Link Selector"
   ]
  },
  {
   "cell_type": "code",
   "execution_count": 12,
   "id": "5c263998-f954-4984-ae68-1455b94d29d5",
   "metadata": {},
   "outputs": [
    {
     "data": {
      "text/plain": [
       "30"
      ]
     },
     "execution_count": 12,
     "metadata": {},
     "output_type": "execute_result"
    }
   ],
   "source": [
    "topic_link_tags = doc.find_all('a' , {'class' : 'no-underline flex-1 d-flex flex-column'})\n",
    "len(topic_link_tags)"
   ]
  },
  {
   "cell_type": "code",
   "execution_count": 13,
   "id": "19eb4e4f-2580-4648-8f73-bf4e7ac3c03b",
   "metadata": {},
   "outputs": [
    {
     "name": "stdout",
     "output_type": "stream",
     "text": [
      "https://github.com/topics/3d\n"
     ]
    }
   ],
   "source": [
    "topic0_url = \"https://github.com\" + topic_link_tags[0]['href']\n",
    "print(topic0_url)"
   ]
  },
  {
   "cell_type": "markdown",
   "id": "13d36d1f-540e-4407-8d8d-09608be10cdc",
   "metadata": {},
   "source": [
    "## Extracting the topics using array"
   ]
  },
  {
   "cell_type": "code",
   "execution_count": 14,
   "id": "d96646ec-d50e-4d03-be51-e513c3336aaa",
   "metadata": {},
   "outputs": [
    {
     "name": "stdout",
     "output_type": "stream",
     "text": [
      "['3D', 'Ajax', 'Algorithm', 'Amp', 'Android', 'Angular', 'Ansible', 'API', 'Arduino', 'ASP.NET', 'Awesome Lists', 'Amazon Web Services', 'Azure', 'Babel', 'Bash', 'Bitcoin', 'Bootstrap', 'Bot', 'C', 'Chrome', 'Chrome extension', 'Command-line interface', 'Clojure', 'Code quality', 'Code review', 'Compiler', 'Continuous integration', 'C++', 'Cryptocurrency', 'Crystal']\n"
     ]
    }
   ],
   "source": [
    "topic_titles = []\n",
    "for topic in topic_title_tags:\n",
    "    topic_titles.append(topic.text)\n",
    "print(topic_titles)"
   ]
  },
  {
   "cell_type": "markdown",
   "id": "2af4224a-6b20-4740-95cd-7e4d1fef5f0a",
   "metadata": {},
   "source": [
    "## Extracting the descriptions using array"
   ]
  },
  {
   "cell_type": "code",
   "execution_count": 15,
   "id": "d5f1d739-6dc2-4feb-9bd1-ac98a2ddfbb5",
   "metadata": {},
   "outputs": [
    {
     "name": "stdout",
     "output_type": "stream",
     "text": [
      "['3D refers to the use of three-dimensional graphics, modeling, and animation in various industries.', 'Ajax is a technique for creating interactive web applications.', 'Algorithms are self-contained sequences that carry out a variety of tasks.', 'Amp is a non-blocking concurrency library for PHP.', 'Android is an operating system built by Google designed for mobile devices.', 'Angular is an open source web application platform.', 'Ansible is a simple and powerful automation engine.', 'An API (Application Programming Interface) is a collection of protocols and subroutines for building software.', 'Arduino is an open source platform for building electronic devices.', 'ASP.NET is a web framework for building modern web apps and services.', 'An awesome list is a list of awesome things curated by the community.', 'Amazon Web Services provides on-demand cloud computing platforms on a subscription basis.', 'Azure is a cloud computing service created by Microsoft.', 'Babel is a compiler for writing next generation JavaScript, today.', 'Bash is a shell and command language interpreter for the GNU operating system.', 'Bitcoin is a cryptocurrency developed by Satoshi Nakamoto.', 'Bootstrap is an HTML, CSS, and JavaScript framework.', 'A bot is an application that runs automated tasks over the Internet.', 'C is a general purpose programming language that first appeared in 1972.', 'Chrome is a web browser from the tech company Google.', 'Chrome extensions enable users to customize the Chrome browsing experience.', 'A CLI, or command-line interface, is a console that helps users issue commands to a program.', 'Clojure is a dynamic, general-purpose programming language.', 'Automate your code review with style, quality, security, and test‑coverage checks when you need them.', 'Ensure your code meets quality standards and ship with confidence.', 'Compilers are software that translate higher-level programming languages to lower-level languages (e.g. machine code).', 'Automatically build and test your code as you push it upstream, preventing bugs from being deployed to production.', 'C++ is a general purpose and object-oriented programming language.', 'A cryptocurrency is a digital currency that uses cryptography.', 'Crystal is a self-hosted, general purpose programming language.']\n"
     ]
    }
   ],
   "source": [
    "topic_desc = []\n",
    "for desc in topic_desc_tags:\n",
    "    topic_desc.append(desc.text.strip())\n",
    "print(topic_desc)"
   ]
  },
  {
   "cell_type": "markdown",
   "id": "7cba9179-4fb9-40cc-9fe4-34391144bae5",
   "metadata": {},
   "source": [
    "## Extracting the url using array"
   ]
  },
  {
   "cell_type": "code",
   "execution_count": 16,
   "id": "56a3fa41-61fd-4f36-bf21-1ac70bc4e3e1",
   "metadata": {},
   "outputs": [
    {
     "name": "stdout",
     "output_type": "stream",
     "text": [
      "['https://github.com/topics/3d', 'https://github.com/topics/ajax', 'https://github.com/topics/algorithm', 'https://github.com/topics/amphp', 'https://github.com/topics/android', 'https://github.com/topics/angular', 'https://github.com/topics/ansible', 'https://github.com/topics/api', 'https://github.com/topics/arduino', 'https://github.com/topics/aspnet', 'https://github.com/topics/awesome', 'https://github.com/topics/aws', 'https://github.com/topics/azure', 'https://github.com/topics/babel', 'https://github.com/topics/bash', 'https://github.com/topics/bitcoin', 'https://github.com/topics/bootstrap', 'https://github.com/topics/bot', 'https://github.com/topics/c', 'https://github.com/topics/chrome', 'https://github.com/topics/chrome-extension', 'https://github.com/topics/cli', 'https://github.com/topics/clojure', 'https://github.com/topics/code-quality', 'https://github.com/topics/code-review', 'https://github.com/topics/compiler', 'https://github.com/topics/continuous-integration', 'https://github.com/topics/cpp', 'https://github.com/topics/cryptocurrency', 'https://github.com/topics/crystal']\n"
     ]
    }
   ],
   "source": [
    "topic_urls = []\n",
    "base_url = 'https://github.com'\n",
    "for url in topic_link_tags:\n",
    "    topic_urls.append(base_url + url['href'])\n",
    "print(topic_urls)"
   ]
  },
  {
   "cell_type": "markdown",
   "id": "43073773-45ec-4e4c-9d8f-1a8f0a42f521",
   "metadata": {},
   "source": [
    "## Installing Pandas & creating the df"
   ]
  },
  {
   "cell_type": "code",
   "execution_count": 17,
   "id": "e0018376-b6f6-4263-9f88-9888c6e652a8",
   "metadata": {},
   "outputs": [
    {
     "name": "stdout",
     "output_type": "stream",
     "text": [
      "Requirement already satisfied: pandas in c:\\users\\panki\\appdata\\local\\programs\\python\\python312\\lib\\site-packages (2.2.2)\n",
      "Requirement already satisfied: numpy>=1.26.0 in c:\\users\\panki\\appdata\\local\\programs\\python\\python312\\lib\\site-packages (from pandas) (2.0.0)\n",
      "Requirement already satisfied: python-dateutil>=2.8.2 in c:\\users\\panki\\appdata\\local\\programs\\python\\python312\\lib\\site-packages (from pandas) (2.9.0.post0)\n",
      "Requirement already satisfied: pytz>=2020.1 in c:\\users\\panki\\appdata\\local\\programs\\python\\python312\\lib\\site-packages (from pandas) (2024.1)\n",
      "Requirement already satisfied: tzdata>=2022.7 in c:\\users\\panki\\appdata\\local\\programs\\python\\python312\\lib\\site-packages (from pandas) (2024.1)\n",
      "Requirement already satisfied: six>=1.5 in c:\\users\\panki\\appdata\\local\\programs\\python\\python312\\lib\\site-packages (from python-dateutil>=2.8.2->pandas) (1.16.0)\n"
     ]
    },
    {
     "name": "stderr",
     "output_type": "stream",
     "text": [
      "\n",
      "[notice] A new release of pip is available: 24.0 -> 24.1.2\n",
      "[notice] To update, run: python.exe -m pip install --upgrade pip\n"
     ]
    }
   ],
   "source": [
    "!pip install pandas"
   ]
  },
  {
   "cell_type": "code",
   "execution_count": 18,
   "id": "db8d8650-2d67-4abd-bec1-353c5bff27aa",
   "metadata": {},
   "outputs": [],
   "source": [
    "import pandas as pd"
   ]
  },
  {
   "cell_type": "code",
   "execution_count": 19,
   "id": "5dd5283d-7994-4dde-baaa-25766a8add95",
   "metadata": {},
   "outputs": [],
   "source": [
    "## creating a topic dictonary\n",
    "topic_dict = {\n",
    "    'title' : topic_titles,\n",
    "    'description' : topic_desc,\n",
    "    'url' : topic_urls\n",
    "}"
   ]
  },
  {
   "cell_type": "code",
   "execution_count": 20,
   "id": "559e9c31-c8d5-45c6-8a1d-3f16f248777e",
   "metadata": {},
   "outputs": [
    {
     "data": {
      "text/html": [
       "<div>\n",
       "<style scoped>\n",
       "    .dataframe tbody tr th:only-of-type {\n",
       "        vertical-align: middle;\n",
       "    }\n",
       "\n",
       "    .dataframe tbody tr th {\n",
       "        vertical-align: top;\n",
       "    }\n",
       "\n",
       "    .dataframe thead th {\n",
       "        text-align: right;\n",
       "    }\n",
       "</style>\n",
       "<table border=\"1\" class=\"dataframe\">\n",
       "  <thead>\n",
       "    <tr style=\"text-align: right;\">\n",
       "      <th></th>\n",
       "      <th>title</th>\n",
       "      <th>description</th>\n",
       "      <th>url</th>\n",
       "    </tr>\n",
       "  </thead>\n",
       "  <tbody>\n",
       "    <tr>\n",
       "      <th>0</th>\n",
       "      <td>3D</td>\n",
       "      <td>3D refers to the use of three-dimensional grap...</td>\n",
       "      <td>https://github.com/topics/3d</td>\n",
       "    </tr>\n",
       "    <tr>\n",
       "      <th>1</th>\n",
       "      <td>Ajax</td>\n",
       "      <td>Ajax is a technique for creating interactive w...</td>\n",
       "      <td>https://github.com/topics/ajax</td>\n",
       "    </tr>\n",
       "    <tr>\n",
       "      <th>2</th>\n",
       "      <td>Algorithm</td>\n",
       "      <td>Algorithms are self-contained sequences that c...</td>\n",
       "      <td>https://github.com/topics/algorithm</td>\n",
       "    </tr>\n",
       "    <tr>\n",
       "      <th>3</th>\n",
       "      <td>Amp</td>\n",
       "      <td>Amp is a non-blocking concurrency library for ...</td>\n",
       "      <td>https://github.com/topics/amphp</td>\n",
       "    </tr>\n",
       "    <tr>\n",
       "      <th>4</th>\n",
       "      <td>Android</td>\n",
       "      <td>Android is an operating system built by Google...</td>\n",
       "      <td>https://github.com/topics/android</td>\n",
       "    </tr>\n",
       "    <tr>\n",
       "      <th>5</th>\n",
       "      <td>Angular</td>\n",
       "      <td>Angular is an open source web application plat...</td>\n",
       "      <td>https://github.com/topics/angular</td>\n",
       "    </tr>\n",
       "    <tr>\n",
       "      <th>6</th>\n",
       "      <td>Ansible</td>\n",
       "      <td>Ansible is a simple and powerful automation en...</td>\n",
       "      <td>https://github.com/topics/ansible</td>\n",
       "    </tr>\n",
       "    <tr>\n",
       "      <th>7</th>\n",
       "      <td>API</td>\n",
       "      <td>An API (Application Programming Interface) is ...</td>\n",
       "      <td>https://github.com/topics/api</td>\n",
       "    </tr>\n",
       "    <tr>\n",
       "      <th>8</th>\n",
       "      <td>Arduino</td>\n",
       "      <td>Arduino is an open source platform for buildin...</td>\n",
       "      <td>https://github.com/topics/arduino</td>\n",
       "    </tr>\n",
       "    <tr>\n",
       "      <th>9</th>\n",
       "      <td>ASP.NET</td>\n",
       "      <td>ASP.NET is a web framework for building modern...</td>\n",
       "      <td>https://github.com/topics/aspnet</td>\n",
       "    </tr>\n",
       "    <tr>\n",
       "      <th>10</th>\n",
       "      <td>Awesome Lists</td>\n",
       "      <td>An awesome list is a list of awesome things cu...</td>\n",
       "      <td>https://github.com/topics/awesome</td>\n",
       "    </tr>\n",
       "    <tr>\n",
       "      <th>11</th>\n",
       "      <td>Amazon Web Services</td>\n",
       "      <td>Amazon Web Services provides on-demand cloud c...</td>\n",
       "      <td>https://github.com/topics/aws</td>\n",
       "    </tr>\n",
       "    <tr>\n",
       "      <th>12</th>\n",
       "      <td>Azure</td>\n",
       "      <td>Azure is a cloud computing service created by ...</td>\n",
       "      <td>https://github.com/topics/azure</td>\n",
       "    </tr>\n",
       "    <tr>\n",
       "      <th>13</th>\n",
       "      <td>Babel</td>\n",
       "      <td>Babel is a compiler for writing next generatio...</td>\n",
       "      <td>https://github.com/topics/babel</td>\n",
       "    </tr>\n",
       "    <tr>\n",
       "      <th>14</th>\n",
       "      <td>Bash</td>\n",
       "      <td>Bash is a shell and command language interpret...</td>\n",
       "      <td>https://github.com/topics/bash</td>\n",
       "    </tr>\n",
       "    <tr>\n",
       "      <th>15</th>\n",
       "      <td>Bitcoin</td>\n",
       "      <td>Bitcoin is a cryptocurrency developed by Satos...</td>\n",
       "      <td>https://github.com/topics/bitcoin</td>\n",
       "    </tr>\n",
       "    <tr>\n",
       "      <th>16</th>\n",
       "      <td>Bootstrap</td>\n",
       "      <td>Bootstrap is an HTML, CSS, and JavaScript fram...</td>\n",
       "      <td>https://github.com/topics/bootstrap</td>\n",
       "    </tr>\n",
       "    <tr>\n",
       "      <th>17</th>\n",
       "      <td>Bot</td>\n",
       "      <td>A bot is an application that runs automated ta...</td>\n",
       "      <td>https://github.com/topics/bot</td>\n",
       "    </tr>\n",
       "    <tr>\n",
       "      <th>18</th>\n",
       "      <td>C</td>\n",
       "      <td>C is a general purpose programming language th...</td>\n",
       "      <td>https://github.com/topics/c</td>\n",
       "    </tr>\n",
       "    <tr>\n",
       "      <th>19</th>\n",
       "      <td>Chrome</td>\n",
       "      <td>Chrome is a web browser from the tech company ...</td>\n",
       "      <td>https://github.com/topics/chrome</td>\n",
       "    </tr>\n",
       "    <tr>\n",
       "      <th>20</th>\n",
       "      <td>Chrome extension</td>\n",
       "      <td>Chrome extensions enable users to customize th...</td>\n",
       "      <td>https://github.com/topics/chrome-extension</td>\n",
       "    </tr>\n",
       "    <tr>\n",
       "      <th>21</th>\n",
       "      <td>Command-line interface</td>\n",
       "      <td>A CLI, or command-line interface, is a console...</td>\n",
       "      <td>https://github.com/topics/cli</td>\n",
       "    </tr>\n",
       "    <tr>\n",
       "      <th>22</th>\n",
       "      <td>Clojure</td>\n",
       "      <td>Clojure is a dynamic, general-purpose programm...</td>\n",
       "      <td>https://github.com/topics/clojure</td>\n",
       "    </tr>\n",
       "    <tr>\n",
       "      <th>23</th>\n",
       "      <td>Code quality</td>\n",
       "      <td>Automate your code review with style, quality,...</td>\n",
       "      <td>https://github.com/topics/code-quality</td>\n",
       "    </tr>\n",
       "    <tr>\n",
       "      <th>24</th>\n",
       "      <td>Code review</td>\n",
       "      <td>Ensure your code meets quality standards and s...</td>\n",
       "      <td>https://github.com/topics/code-review</td>\n",
       "    </tr>\n",
       "    <tr>\n",
       "      <th>25</th>\n",
       "      <td>Compiler</td>\n",
       "      <td>Compilers are software that translate higher-l...</td>\n",
       "      <td>https://github.com/topics/compiler</td>\n",
       "    </tr>\n",
       "    <tr>\n",
       "      <th>26</th>\n",
       "      <td>Continuous integration</td>\n",
       "      <td>Automatically build and test your code as you ...</td>\n",
       "      <td>https://github.com/topics/continuous-integration</td>\n",
       "    </tr>\n",
       "    <tr>\n",
       "      <th>27</th>\n",
       "      <td>C++</td>\n",
       "      <td>C++ is a general purpose and object-oriented p...</td>\n",
       "      <td>https://github.com/topics/cpp</td>\n",
       "    </tr>\n",
       "    <tr>\n",
       "      <th>28</th>\n",
       "      <td>Cryptocurrency</td>\n",
       "      <td>A cryptocurrency is a digital currency that us...</td>\n",
       "      <td>https://github.com/topics/cryptocurrency</td>\n",
       "    </tr>\n",
       "    <tr>\n",
       "      <th>29</th>\n",
       "      <td>Crystal</td>\n",
       "      <td>Crystal is a self-hosted, general purpose prog...</td>\n",
       "      <td>https://github.com/topics/crystal</td>\n",
       "    </tr>\n",
       "  </tbody>\n",
       "</table>\n",
       "</div>"
      ],
      "text/plain": [
       "                     title                                        description  \\\n",
       "0                       3D  3D refers to the use of three-dimensional grap...   \n",
       "1                     Ajax  Ajax is a technique for creating interactive w...   \n",
       "2                Algorithm  Algorithms are self-contained sequences that c...   \n",
       "3                      Amp  Amp is a non-blocking concurrency library for ...   \n",
       "4                  Android  Android is an operating system built by Google...   \n",
       "5                  Angular  Angular is an open source web application plat...   \n",
       "6                  Ansible  Ansible is a simple and powerful automation en...   \n",
       "7                      API  An API (Application Programming Interface) is ...   \n",
       "8                  Arduino  Arduino is an open source platform for buildin...   \n",
       "9                  ASP.NET  ASP.NET is a web framework for building modern...   \n",
       "10           Awesome Lists  An awesome list is a list of awesome things cu...   \n",
       "11     Amazon Web Services  Amazon Web Services provides on-demand cloud c...   \n",
       "12                   Azure  Azure is a cloud computing service created by ...   \n",
       "13                   Babel  Babel is a compiler for writing next generatio...   \n",
       "14                    Bash  Bash is a shell and command language interpret...   \n",
       "15                 Bitcoin  Bitcoin is a cryptocurrency developed by Satos...   \n",
       "16               Bootstrap  Bootstrap is an HTML, CSS, and JavaScript fram...   \n",
       "17                     Bot  A bot is an application that runs automated ta...   \n",
       "18                       C  C is a general purpose programming language th...   \n",
       "19                  Chrome  Chrome is a web browser from the tech company ...   \n",
       "20        Chrome extension  Chrome extensions enable users to customize th...   \n",
       "21  Command-line interface  A CLI, or command-line interface, is a console...   \n",
       "22                 Clojure  Clojure is a dynamic, general-purpose programm...   \n",
       "23            Code quality  Automate your code review with style, quality,...   \n",
       "24             Code review  Ensure your code meets quality standards and s...   \n",
       "25                Compiler  Compilers are software that translate higher-l...   \n",
       "26  Continuous integration  Automatically build and test your code as you ...   \n",
       "27                     C++  C++ is a general purpose and object-oriented p...   \n",
       "28          Cryptocurrency  A cryptocurrency is a digital currency that us...   \n",
       "29                 Crystal  Crystal is a self-hosted, general purpose prog...   \n",
       "\n",
       "                                                 url  \n",
       "0                       https://github.com/topics/3d  \n",
       "1                     https://github.com/topics/ajax  \n",
       "2                https://github.com/topics/algorithm  \n",
       "3                    https://github.com/topics/amphp  \n",
       "4                  https://github.com/topics/android  \n",
       "5                  https://github.com/topics/angular  \n",
       "6                  https://github.com/topics/ansible  \n",
       "7                      https://github.com/topics/api  \n",
       "8                  https://github.com/topics/arduino  \n",
       "9                   https://github.com/topics/aspnet  \n",
       "10                 https://github.com/topics/awesome  \n",
       "11                     https://github.com/topics/aws  \n",
       "12                   https://github.com/topics/azure  \n",
       "13                   https://github.com/topics/babel  \n",
       "14                    https://github.com/topics/bash  \n",
       "15                 https://github.com/topics/bitcoin  \n",
       "16               https://github.com/topics/bootstrap  \n",
       "17                     https://github.com/topics/bot  \n",
       "18                       https://github.com/topics/c  \n",
       "19                  https://github.com/topics/chrome  \n",
       "20        https://github.com/topics/chrome-extension  \n",
       "21                     https://github.com/topics/cli  \n",
       "22                 https://github.com/topics/clojure  \n",
       "23            https://github.com/topics/code-quality  \n",
       "24             https://github.com/topics/code-review  \n",
       "25                https://github.com/topics/compiler  \n",
       "26  https://github.com/topics/continuous-integration  \n",
       "27                     https://github.com/topics/cpp  \n",
       "28          https://github.com/topics/cryptocurrency  \n",
       "29                 https://github.com/topics/crystal  "
      ]
     },
     "execution_count": 20,
     "metadata": {},
     "output_type": "execute_result"
    }
   ],
   "source": [
    "## creating the data frame\n",
    "topics_df = pd.DataFrame(topic_dict)\n",
    "topics_df"
   ]
  },
  {
   "cell_type": "markdown",
   "id": "a02e2ad9-30a0-4893-83a1-cbaaba41c4fc",
   "metadata": {},
   "source": [
    "## Creating CSV files of the data frame"
   ]
  },
  {
   "cell_type": "code",
   "execution_count": 23,
   "id": "21291e56-bb58-4308-9216-476ac8c0fdc2",
   "metadata": {},
   "outputs": [],
   "source": [
    "topics_df.to_csv('topics.csv' , index = None)"
   ]
  },
  {
   "cell_type": "markdown",
   "id": "f188d235-bf80-41fd-9a6e-28fc81ab9cee",
   "metadata": {},
   "source": [
    "## Getting info out of a topic page"
   ]
  },
  {
   "cell_type": "code",
   "execution_count": 35,
   "id": "665260bb-85fc-4406-9519-96a25aef01b5",
   "metadata": {},
   "outputs": [
    {
     "data": {
      "text/plain": [
       "'https://github.com/topics/3d'"
      ]
     },
     "execution_count": 35,
     "metadata": {},
     "output_type": "execute_result"
    }
   ],
   "source": [
    "_3Drepo_url = topic_urls[0]\n",
    "_3Drepo_url"
   ]
  },
  {
   "cell_type": "code",
   "execution_count": 51,
   "id": "e8666ecc-e464-473c-85c6-5176ed6682eb",
   "metadata": {},
   "outputs": [],
   "source": [
    "_3Drepo = requests.get(_3Drepo_url)"
   ]
  },
  {
   "cell_type": "code",
   "execution_count": 52,
   "id": "f59bb7c6-e321-4357-b065-5e8c1fe9c121",
   "metadata": {},
   "outputs": [
    {
     "data": {
      "text/plain": [
       "200"
      ]
     },
     "execution_count": 52,
     "metadata": {},
     "output_type": "execute_result"
    }
   ],
   "source": [
    "_3Drepo.status_code"
   ]
  },
  {
   "cell_type": "code",
   "execution_count": 53,
   "id": "3e5967d3-c67f-4c1f-9d45-b426c84c5fb6",
   "metadata": {},
   "outputs": [
    {
     "data": {
      "text/plain": [
       "519556"
      ]
     },
     "execution_count": 53,
     "metadata": {},
     "output_type": "execute_result"
    }
   ],
   "source": [
    "len(_3Drepo.text)"
   ]
  },
  {
   "cell_type": "code",
   "execution_count": 59,
   "id": "1adcd62b-0ae5-46b8-8003-446e2b386943",
   "metadata": {},
   "outputs": [],
   "source": [
    "with open('3drepo.html', 'w' , encoding='utf-8') as f:\n",
    "    f.write(_3Drepo.text)"
   ]
  },
  {
   "cell_type": "code",
   "execution_count": 96,
   "id": "a147da28-9988-4cd7-8afe-4b5a3ce6bae2",
   "metadata": {},
   "outputs": [],
   "source": [
    "_3d_repoparser = BeautifulSoup(_3Drepo.text , 'html.parser')"
   ]
  },
  {
   "cell_type": "markdown",
   "id": "4fa19f72-757e-4c35-9c5f-d2463e9ea782",
   "metadata": {},
   "source": [
    "## Selecting Repository Header Tags"
   ]
  },
  {
   "cell_type": "code",
   "execution_count": 95,
   "id": "c91fdc5a-c59c-499d-8931-2d63a05c145f",
   "metadata": {},
   "outputs": [],
   "source": [
    "h3_selection_class = 'f3 color-fg-muted text-normal lh-condensed'\n",
    "repo_tags = _3d_repoparser.find_all('h3' , {'class' : h3_selection_class})"
   ]
  },
  {
   "cell_type": "code",
   "execution_count": 69,
   "id": "237e578e-726d-472b-a9df-a131b6ead076",
   "metadata": {},
   "outputs": [
    {
     "data": {
      "text/plain": [
       "20"
      ]
     },
     "execution_count": 69,
     "metadata": {},
     "output_type": "execute_result"
    }
   ],
   "source": [
    "no_of_3drepo = len(repo_tags)\n",
    "no_of_3drepo"
   ]
  },
  {
   "cell_type": "code",
   "execution_count": 71,
   "id": "f81ffefd-a37b-445d-8df4-2fed971559a5",
   "metadata": {},
   "outputs": [],
   "source": [
    "## selecting the first repo\n",
    "first_repo = repo_tags[0]"
   ]
  },
  {
   "cell_type": "code",
   "execution_count": 73,
   "id": "ae409df1-5cf1-468f-99c3-fca19efd096a",
   "metadata": {},
   "outputs": [
    {
     "data": {
      "text/plain": [
       "[<a class=\"Link\" data-hydro-click='{\"event_type\":\"explore.click\",\"payload\":{\"click_context\":\"REPOSITORY_CARD\",\"click_target\":\"OWNER\",\"click_visual_representation\":\"REPOSITORY_OWNER_HEADING\",\"actor_id\":null,\"record_id\":97088,\"originating_url\":\"https://github.com/topics/3d\",\"user_id\":null}}' data-hydro-click-hmac=\"c72fbd5c69a8ee7c9c53a4e65de2b93c8fc7552dd793945819639bc165c0f0ba\" data-turbo=\"false\" data-view-component=\"true\" href=\"/mrdoob\">\n",
       "             mrdoob\n",
       " </a>,\n",
       " <a class=\"Link text-bold wb-break-word\" data-hydro-click='{\"event_type\":\"explore.click\",\"payload\":{\"click_context\":\"REPOSITORY_CARD\",\"click_target\":\"REPOSITORY\",\"click_visual_representation\":\"REPOSITORY_NAME_HEADING\",\"actor_id\":null,\"record_id\":576201,\"originating_url\":\"https://github.com/topics/3d\",\"user_id\":null}}' data-hydro-click-hmac=\"4a2667db3d63a1739c412e059e5da95afe419df83f70949b5d59dc3478f5c79a\" data-turbo=\"false\" data-view-component=\"true\" href=\"/mrdoob/three.js\">\n",
       "             three.js\n",
       " </a>]"
      ]
     },
     "execution_count": 73,
     "metadata": {},
     "output_type": "execute_result"
    }
   ],
   "source": [
    "a_tags = first_repo.find_all('a')\n",
    "a_tags"
   ]
  },
  {
   "cell_type": "code",
   "execution_count": 79,
   "id": "b622d37e-74c6-4e39-b83b-6ebc4d9af510",
   "metadata": {
    "collapsed": true,
    "jupyter": {
     "outputs_hidden": true
    }
   },
   "outputs": [
    {
     "data": {
      "text/plain": [
       "'mrdoob'"
      ]
     },
     "execution_count": 79,
     "metadata": {},
     "output_type": "execute_result"
    }
   ],
   "source": [
    "first_repo_username = a_tags[0].text.strip()\n",
    "first_repo_username"
   ]
  },
  {
   "cell_type": "code",
   "execution_count": 80,
   "id": "68739cf7-103a-4f4a-9ba5-ee3d20f1950b",
   "metadata": {},
   "outputs": [
    {
     "data": {
      "text/plain": [
       "'three.js'"
      ]
     },
     "execution_count": 80,
     "metadata": {},
     "output_type": "execute_result"
    }
   ],
   "source": [
    "first_repo_name = a_tags[1].text.strip()\n",
    "first_repo_name"
   ]
  },
  {
   "cell_type": "markdown",
   "id": "3b7bd930-7f27-4299-b45d-c22e74a4290b",
   "metadata": {},
   "source": [
    "## selecting stars HTML selector"
   ]
  },
  {
   "cell_type": "code",
   "execution_count": 90,
   "id": "411a0e54-498f-4a9b-b9c0-241511baf445",
   "metadata": {},
   "outputs": [],
   "source": [
    "star_class = 'js-toggler-target rounded-left-2 btn-with-aria-count btn-sm btn BtnGroup-item color-bg-default'\n",
    "repo_star = _3d_repoparser.find_all('span' , {'class' : 'Counter js-social-count'})"
   ]
  },
  {
   "cell_type": "code",
   "execution_count": 91,
   "id": "f9ba4f09-7508-438b-8d0b-a60448490bd5",
   "metadata": {},
   "outputs": [
    {
     "data": {
      "text/plain": [
       "20"
      ]
     },
     "execution_count": 91,
     "metadata": {},
     "output_type": "execute_result"
    }
   ],
   "source": [
    "len(repo_star)"
   ]
  },
  {
   "cell_type": "code",
   "execution_count": 89,
   "id": "1f7f88f4-b769-4d69-95ca-9fc915721ef7",
   "metadata": {},
   "outputs": [
    {
     "data": {
      "text/plain": [
       "'101k'"
      ]
     },
     "execution_count": 89,
     "metadata": {},
     "output_type": "execute_result"
    }
   ],
   "source": [
    "repo_star[0].text"
   ]
  },
  {
   "cell_type": "markdown",
   "id": "77510664-01f5-4fb8-80b0-a64e619ca603",
   "metadata": {},
   "source": [
    "## Defining Star Parser function"
   ]
  },
  {
   "cell_type": "code",
   "execution_count": 92,
   "id": "8bb753be-6cf0-4a73-b473-c31e342926da",
   "metadata": {},
   "outputs": [],
   "source": [
    "def parse_star_count(stars_str):\n",
    "    if stars_str[-1] == 'k':\n",
    "        return int(float(stars_str[:-1])*1000)\n",
    "    return int(stars_str)"
   ]
  },
  {
   "cell_type": "code",
   "execution_count": 94,
   "id": "b7bfc18c-9e91-41cc-a907-61d8c6ce2d59",
   "metadata": {},
   "outputs": [
    {
     "data": {
      "text/plain": [
       "26800"
      ]
     },
     "execution_count": 94,
     "metadata": {},
     "output_type": "execute_result"
    }
   ],
   "source": [
    "first_repo_starcount = parse_star_count(repo_star[1].text)\n",
    "first_repo_starcount"
   ]
  },
  {
   "cell_type": "markdown",
   "id": "ca443f0e-f78e-4119-a6c3-32031cc4036b",
   "metadata": {},
   "source": [
    "## Defining RepoInfo function"
   ]
  },
  {
   "cell_type": "code",
   "execution_count": 107,
   "id": "d815ae67-c210-48f7-9bc0-303d3eb58160",
   "metadata": {},
   "outputs": [],
   "source": [
    "def get_repo_info(h1_tag , star_tag):\n",
    "    # returns all the required info of repository\n",
    "    a_tags = h1_tag.find_all('a')\n",
    "    username = a_tags[0].text.strip()\n",
    "    repo_name = a_tags[1].text.strip()\n",
    "    repo_url = base_url + a_tags[1]['href']\n",
    "    stars = parse_star_count(star_tag.text)\n",
    "    return username , repo_name , stars ,  repo_url"
   ]
  },
  {
   "cell_type": "code",
   "execution_count": 109,
   "id": "7bb9969f-95a4-4c26-b889-fd15b63760b1",
   "metadata": {},
   "outputs": [
    {
     "data": {
      "text/plain": [
       "('mrdoob', 'three.js', 101000, 'https://github.com/mrdoob/three.js')"
      ]
     },
     "execution_count": 109,
     "metadata": {},
     "output_type": "execute_result"
    }
   ],
   "source": [
    "# repo_tags -> all header \n",
    "# repo_star -> all stars selector\n",
    "get_repo_info(repo_tags[0] , repo_star[0])"
   ]
  },
  {
   "cell_type": "markdown",
   "id": "83e08063-8cb9-4bc9-8d22-6f067df4d3a5",
   "metadata": {},
   "source": [
    "## using loops to find all repository info for the Topic 3D"
   ]
  },
  {
   "cell_type": "code",
   "execution_count": 115,
   "id": "cfff558e-ba7e-4803-8bcb-1dea88f1a19d",
   "metadata": {},
   "outputs": [],
   "source": [
    "## converting into dictionary to store all repo info\n",
    "_3dtopic_repos_dict = {\n",
    "    'username' : [],\n",
    "    'repo_name' : [],\n",
    "    'stars' : [],\n",
    "    'repo_url' : []\n",
    "}\n",
    "\n",
    "for i in range(len(repo_tags)):\n",
    "    # repo_info -> ('mrdoob', 'three.js', 101000, 'https://github.com/mrdoob/three.js')\n",
    "    repo_info = get_repo_info(repo_tags[i] , repo_star[i])\n",
    "    _3dtopic_repos_dict['username'].append(repo_info[0])\n",
    "    _3dtopic_repos_dict['repo_name'].append(repo_info[1])\n",
    "    _3dtopic_repos_dict['stars'].append(repo_info[2])\n",
    "    _3dtopic_repos_dict['repo_url'].append(repo_info[3])"
   ]
  },
  {
   "cell_type": "code",
   "execution_count": 117,
   "id": "94587e4c-6cfd-45a2-a8f7-90872bd8142c",
   "metadata": {},
   "outputs": [
    {
     "data": {
      "text/html": [
       "<div>\n",
       "<style scoped>\n",
       "    .dataframe tbody tr th:only-of-type {\n",
       "        vertical-align: middle;\n",
       "    }\n",
       "\n",
       "    .dataframe tbody tr th {\n",
       "        vertical-align: top;\n",
       "    }\n",
       "\n",
       "    .dataframe thead th {\n",
       "        text-align: right;\n",
       "    }\n",
       "</style>\n",
       "<table border=\"1\" class=\"dataframe\">\n",
       "  <thead>\n",
       "    <tr style=\"text-align: right;\">\n",
       "      <th></th>\n",
       "      <th>username</th>\n",
       "      <th>repo_name</th>\n",
       "      <th>stars</th>\n",
       "      <th>repo_url</th>\n",
       "    </tr>\n",
       "  </thead>\n",
       "  <tbody>\n",
       "    <tr>\n",
       "      <th>0</th>\n",
       "      <td>mrdoob</td>\n",
       "      <td>three.js</td>\n",
       "      <td>101000</td>\n",
       "      <td>https://github.com/mrdoob/three.js</td>\n",
       "    </tr>\n",
       "    <tr>\n",
       "      <th>1</th>\n",
       "      <td>pmndrs</td>\n",
       "      <td>react-three-fiber</td>\n",
       "      <td>26800</td>\n",
       "      <td>https://github.com/pmndrs/react-three-fiber</td>\n",
       "    </tr>\n",
       "    <tr>\n",
       "      <th>2</th>\n",
       "      <td>libgdx</td>\n",
       "      <td>libgdx</td>\n",
       "      <td>23000</td>\n",
       "      <td>https://github.com/libgdx/libgdx</td>\n",
       "    </tr>\n",
       "    <tr>\n",
       "      <th>3</th>\n",
       "      <td>BabylonJS</td>\n",
       "      <td>Babylon.js</td>\n",
       "      <td>22800</td>\n",
       "      <td>https://github.com/BabylonJS/Babylon.js</td>\n",
       "    </tr>\n",
       "    <tr>\n",
       "      <th>4</th>\n",
       "      <td>ssloy</td>\n",
       "      <td>tinyrenderer</td>\n",
       "      <td>19900</td>\n",
       "      <td>https://github.com/ssloy/tinyrenderer</td>\n",
       "    </tr>\n",
       "    <tr>\n",
       "      <th>5</th>\n",
       "      <td>FreeCAD</td>\n",
       "      <td>FreeCAD</td>\n",
       "      <td>18400</td>\n",
       "      <td>https://github.com/FreeCAD/FreeCAD</td>\n",
       "    </tr>\n",
       "    <tr>\n",
       "      <th>6</th>\n",
       "      <td>lettier</td>\n",
       "      <td>3d-game-shaders-for-beginners</td>\n",
       "      <td>17500</td>\n",
       "      <td>https://github.com/lettier/3d-game-shaders-for...</td>\n",
       "    </tr>\n",
       "    <tr>\n",
       "      <th>7</th>\n",
       "      <td>aframevr</td>\n",
       "      <td>aframe</td>\n",
       "      <td>16400</td>\n",
       "      <td>https://github.com/aframevr/aframe</td>\n",
       "    </tr>\n",
       "    <tr>\n",
       "      <th>8</th>\n",
       "      <td>CesiumGS</td>\n",
       "      <td>cesium</td>\n",
       "      <td>12500</td>\n",
       "      <td>https://github.com/CesiumGS/cesium</td>\n",
       "    </tr>\n",
       "    <tr>\n",
       "      <th>9</th>\n",
       "      <td>blender</td>\n",
       "      <td>blender</td>\n",
       "      <td>12300</td>\n",
       "      <td>https://github.com/blender/blender</td>\n",
       "    </tr>\n",
       "    <tr>\n",
       "      <th>10</th>\n",
       "      <td>MonoGame</td>\n",
       "      <td>MonoGame</td>\n",
       "      <td>11100</td>\n",
       "      <td>https://github.com/MonoGame/MonoGame</td>\n",
       "    </tr>\n",
       "    <tr>\n",
       "      <th>11</th>\n",
       "      <td>mapbox</td>\n",
       "      <td>mapbox-gl-js</td>\n",
       "      <td>10900</td>\n",
       "      <td>https://github.com/mapbox/mapbox-gl-js</td>\n",
       "    </tr>\n",
       "    <tr>\n",
       "      <th>12</th>\n",
       "      <td>isl-org</td>\n",
       "      <td>Open3D</td>\n",
       "      <td>10900</td>\n",
       "      <td>https://github.com/isl-org/Open3D</td>\n",
       "    </tr>\n",
       "    <tr>\n",
       "      <th>13</th>\n",
       "      <td>metafizzy</td>\n",
       "      <td>zdog</td>\n",
       "      <td>10300</td>\n",
       "      <td>https://github.com/metafizzy/zdog</td>\n",
       "    </tr>\n",
       "    <tr>\n",
       "      <th>14</th>\n",
       "      <td>timzhang642</td>\n",
       "      <td>3D-Machine-Learning</td>\n",
       "      <td>9600</td>\n",
       "      <td>https://github.com/timzhang642/3D-Machine-Lear...</td>\n",
       "    </tr>\n",
       "    <tr>\n",
       "      <th>15</th>\n",
       "      <td>nerfstudio-project</td>\n",
       "      <td>nerfstudio</td>\n",
       "      <td>9000</td>\n",
       "      <td>https://github.com/nerfstudio-project/nerfstudio</td>\n",
       "    </tr>\n",
       "    <tr>\n",
       "      <th>16</th>\n",
       "      <td>4ian</td>\n",
       "      <td>GDevelop</td>\n",
       "      <td>8000</td>\n",
       "      <td>https://github.com/4ian/GDevelop</td>\n",
       "    </tr>\n",
       "    <tr>\n",
       "      <th>17</th>\n",
       "      <td>a1studmuffin</td>\n",
       "      <td>SpaceshipGenerator</td>\n",
       "      <td>7600</td>\n",
       "      <td>https://github.com/a1studmuffin/SpaceshipGener...</td>\n",
       "    </tr>\n",
       "    <tr>\n",
       "      <th>18</th>\n",
       "      <td>FyroxEngine</td>\n",
       "      <td>Fyrox</td>\n",
       "      <td>7500</td>\n",
       "      <td>https://github.com/FyroxEngine/Fyrox</td>\n",
       "    </tr>\n",
       "    <tr>\n",
       "      <th>19</th>\n",
       "      <td>domlysz</td>\n",
       "      <td>BlenderGIS</td>\n",
       "      <td>7500</td>\n",
       "      <td>https://github.com/domlysz/BlenderGIS</td>\n",
       "    </tr>\n",
       "  </tbody>\n",
       "</table>\n",
       "</div>"
      ],
      "text/plain": [
       "              username                      repo_name   stars  \\\n",
       "0               mrdoob                       three.js  101000   \n",
       "1               pmndrs              react-three-fiber   26800   \n",
       "2               libgdx                         libgdx   23000   \n",
       "3            BabylonJS                     Babylon.js   22800   \n",
       "4                ssloy                   tinyrenderer   19900   \n",
       "5              FreeCAD                        FreeCAD   18400   \n",
       "6              lettier  3d-game-shaders-for-beginners   17500   \n",
       "7             aframevr                         aframe   16400   \n",
       "8             CesiumGS                         cesium   12500   \n",
       "9              blender                        blender   12300   \n",
       "10            MonoGame                       MonoGame   11100   \n",
       "11              mapbox                   mapbox-gl-js   10900   \n",
       "12             isl-org                         Open3D   10900   \n",
       "13           metafizzy                           zdog   10300   \n",
       "14         timzhang642            3D-Machine-Learning    9600   \n",
       "15  nerfstudio-project                     nerfstudio    9000   \n",
       "16                4ian                       GDevelop    8000   \n",
       "17        a1studmuffin             SpaceshipGenerator    7600   \n",
       "18         FyroxEngine                          Fyrox    7500   \n",
       "19             domlysz                     BlenderGIS    7500   \n",
       "\n",
       "                                             repo_url  \n",
       "0                  https://github.com/mrdoob/three.js  \n",
       "1         https://github.com/pmndrs/react-three-fiber  \n",
       "2                    https://github.com/libgdx/libgdx  \n",
       "3             https://github.com/BabylonJS/Babylon.js  \n",
       "4               https://github.com/ssloy/tinyrenderer  \n",
       "5                  https://github.com/FreeCAD/FreeCAD  \n",
       "6   https://github.com/lettier/3d-game-shaders-for...  \n",
       "7                  https://github.com/aframevr/aframe  \n",
       "8                  https://github.com/CesiumGS/cesium  \n",
       "9                  https://github.com/blender/blender  \n",
       "10               https://github.com/MonoGame/MonoGame  \n",
       "11             https://github.com/mapbox/mapbox-gl-js  \n",
       "12                  https://github.com/isl-org/Open3D  \n",
       "13                  https://github.com/metafizzy/zdog  \n",
       "14  https://github.com/timzhang642/3D-Machine-Lear...  \n",
       "15   https://github.com/nerfstudio-project/nerfstudio  \n",
       "16                   https://github.com/4ian/GDevelop  \n",
       "17  https://github.com/a1studmuffin/SpaceshipGener...  \n",
       "18               https://github.com/FyroxEngine/Fyrox  \n",
       "19              https://github.com/domlysz/BlenderGIS  "
      ]
     },
     "execution_count": 117,
     "metadata": {},
     "output_type": "execute_result"
    }
   ],
   "source": [
    "_3dtopic_data = pd.DataFrame(_3dtopic_repos_dict)\n",
    "_3dtopic_data"
   ]
  },
  {
   "cell_type": "markdown",
   "id": "c25644da-6b58-4f36-9c9f-7a5e4ed1c98f",
   "metadata": {},
   "source": [
    "## Final Code"
   ]
  },
  {
   "cell_type": "code",
   "execution_count": 129,
   "id": "97cbd7f6-0e61-4750-9084-da51164d565c",
   "metadata": {},
   "outputs": [],
   "source": [
    "import os\n",
    "\n",
    "def get_topic_page(topic_url):\n",
    "    # Download the page\n",
    "    response = requests.get(topic_url)\n",
    "    # Check successful response\n",
    "    if response.status_code != 200:\n",
    "        raise Exception('Failed to load page {}'.format(topic_url))\n",
    "    # Parse using Beautiful soup\n",
    "    topic_doc = BeautifulSoup(response.text, 'html.parser')\n",
    "    return topic_doc\n",
    "\n",
    "\n",
    "def get_repo_info(h1_tag , star_tag):\n",
    "    # returns all the required info of repository\n",
    "    a_tags = h1_tag.find_all('a')\n",
    "    username = a_tags[0].text.strip()\n",
    "    repo_name = a_tags[1].text.strip()\n",
    "    repo_url = base_url + a_tags[1]['href']\n",
    "    stars = parse_star_count(star_tag.text)\n",
    "    return username , repo_name , stars ,  repo_url\n",
    "\n",
    "def get_topic_repos(topic_repoPage):\n",
    "    # header tags -> repo title , repo URL & username\n",
    "    h3_selection_class = 'f3 color-fg-muted text-normal lh-condensed'\n",
    "    repo_tags = topic_repoPage.find_all('h3' , {'class' : h3_selection_class})\n",
    "    # getting star tags\n",
    "    repo_star = topic_repoPage.find_all('span' , {'class' : 'Counter js-social-count'})\n",
    "    \n",
    "    ## converting into dictionary to store all repo info\n",
    "    topic_repoPage_dict = {\n",
    "        'username' : [],\n",
    "        'repo_name' : [],\n",
    "        'stars' : [],\n",
    "        'repo_url' : []\n",
    "    }\n",
    "    for i in range(len(repo_tags)):\n",
    "        # repo_info -> ('mrdoob', 'three.js', 101000, 'https://github.com/mrdoob/three.js')\n",
    "        repo_info = get_repo_info(repo_tags[i] , repo_star[i])\n",
    "        topic_repoPage_dict['username'].append(repo_info[0])\n",
    "        topic_repoPage_dict['repo_name'].append(repo_info[1])\n",
    "        topic_repoPage_dict['stars'].append(repo_info[2])\n",
    "        topic_repoPage_dict['repo_url'].append(repo_info[3])\n",
    "    return pd.DataFrame(topic_repoPage_dict)"
   ]
  },
  {
   "cell_type": "markdown",
   "id": "97a93b8e-12b3-496c-89bf-8395040d9b15",
   "metadata": {},
   "source": [
    "## Write a single function to :\n",
    "1. Get the list of topics from the topics page\n",
    "2. Get the list of top repos from the individual topic pages\n",
    "3. For each topic, create a CSV of the top repos for the topic"
   ]
  },
  {
   "cell_type": "code",
   "execution_count": 125,
   "id": "404666eb-7e35-43b5-8796-ccf85eee92a8",
   "metadata": {},
   "outputs": [
    {
     "data": {
      "text/plain": [
       "['https://github.com/topics/3d',\n",
       " 'https://github.com/topics/ajax',\n",
       " 'https://github.com/topics/algorithm',\n",
       " 'https://github.com/topics/amphp',\n",
       " 'https://github.com/topics/android',\n",
       " 'https://github.com/topics/angular',\n",
       " 'https://github.com/topics/ansible',\n",
       " 'https://github.com/topics/api',\n",
       " 'https://github.com/topics/arduino',\n",
       " 'https://github.com/topics/aspnet',\n",
       " 'https://github.com/topics/awesome',\n",
       " 'https://github.com/topics/aws',\n",
       " 'https://github.com/topics/azure',\n",
       " 'https://github.com/topics/babel',\n",
       " 'https://github.com/topics/bash',\n",
       " 'https://github.com/topics/bitcoin',\n",
       " 'https://github.com/topics/bootstrap',\n",
       " 'https://github.com/topics/bot',\n",
       " 'https://github.com/topics/c',\n",
       " 'https://github.com/topics/chrome',\n",
       " 'https://github.com/topics/chrome-extension',\n",
       " 'https://github.com/topics/cli',\n",
       " 'https://github.com/topics/clojure',\n",
       " 'https://github.com/topics/code-quality',\n",
       " 'https://github.com/topics/code-review',\n",
       " 'https://github.com/topics/compiler',\n",
       " 'https://github.com/topics/continuous-integration',\n",
       " 'https://github.com/topics/cpp',\n",
       " 'https://github.com/topics/cryptocurrency',\n",
       " 'https://github.com/topics/crystal']"
      ]
     },
     "execution_count": 125,
     "metadata": {},
     "output_type": "execute_result"
    }
   ],
   "source": [
    "topic_urls"
   ]
  },
  {
   "cell_type": "code",
   "execution_count": 160,
   "id": "fcf46573-3ee8-48be-8216-85a9c1a08401",
   "metadata": {},
   "outputs": [],
   "source": [
    "# fn to get the list of top repos from the individual topic pages\n",
    "def getallTopicRepo():\n",
    "    topics_repodf = []\n",
    "    for topic_repo_url in topic_urls:\n",
    "        topic_repoParser = get_topic_page(topic_repo_url)\n",
    "        topics_repodf.append(get_topic_repos(topic_repoParser))\n",
    "    return topics_repodf\n",
    "\n",
    "# For each topic, create a CSV of the top repos for the topic\n",
    "def scrape_topics_repos(dataFrame):\n",
    "    print('Scrapping lsit of topics')\n",
    "    i = 0\n",
    "    os.makedirs('data' , exist_ok = True)\n",
    "    for currTopicRepo in dataFrame:\n",
    "        print('Scrapping top repositories for ' + topic_titles[i] + '....')\n",
    "        currTopicRepo.to_csv('data/{}.csv'.format(topic_titles[i]) , index = None)\n",
    "        i = i+1"
   ]
  },
  {
   "cell_type": "code",
   "execution_count": 161,
   "id": "7ebf460c-1cbe-407d-a37e-46d58dda396b",
   "metadata": {},
   "outputs": [],
   "source": [
    "allTopicRepoDf = getallTopicRepo()"
   ]
  },
  {
   "cell_type": "code",
   "execution_count": 162,
   "id": "142c6fc0-3b5c-424c-8d6b-6f8fab0f9dd4",
   "metadata": {},
   "outputs": [
    {
     "name": "stdout",
     "output_type": "stream",
     "text": [
      "30\n"
     ]
    }
   ],
   "source": [
    "print(len(allTopicRepoDf))"
   ]
  },
  {
   "cell_type": "code",
   "execution_count": 163,
   "id": "1019a785-aa70-4959-97a8-fde3b787d52f",
   "metadata": {},
   "outputs": [
    {
     "name": "stdout",
     "output_type": "stream",
     "text": [
      "Scrapping lsit of topics\n",
      "Scrapping top repositories for 3D....\n",
      "Scrapping top repositories for Ajax....\n",
      "Scrapping top repositories for Algorithm....\n",
      "Scrapping top repositories for Amp....\n",
      "Scrapping top repositories for Android....\n",
      "Scrapping top repositories for Angular....\n",
      "Scrapping top repositories for Ansible....\n",
      "Scrapping top repositories for API....\n",
      "Scrapping top repositories for Arduino....\n",
      "Scrapping top repositories for ASP.NET....\n",
      "Scrapping top repositories for Awesome Lists....\n",
      "Scrapping top repositories for Amazon Web Services....\n",
      "Scrapping top repositories for Azure....\n",
      "Scrapping top repositories for Babel....\n",
      "Scrapping top repositories for Bash....\n",
      "Scrapping top repositories for Bitcoin....\n",
      "Scrapping top repositories for Bootstrap....\n",
      "Scrapping top repositories for Bot....\n",
      "Scrapping top repositories for C....\n",
      "Scrapping top repositories for Chrome....\n",
      "Scrapping top repositories for Chrome extension....\n",
      "Scrapping top repositories for Command-line interface....\n",
      "Scrapping top repositories for Clojure....\n",
      "Scrapping top repositories for Code quality....\n",
      "Scrapping top repositories for Code review....\n",
      "Scrapping top repositories for Compiler....\n",
      "Scrapping top repositories for Continuous integration....\n",
      "Scrapping top repositories for C++....\n",
      "Scrapping top repositories for Cryptocurrency....\n",
      "Scrapping top repositories for Crystal....\n"
     ]
    }
   ],
   "source": [
    "scrape_topics_repos(allTopicRepoDf)"
   ]
  }
 ],
 "metadata": {
  "kernelspec": {
   "display_name": "Python 3 (ipykernel)",
   "language": "python",
   "name": "python3"
  },
  "language_info": {
   "codemirror_mode": {
    "name": "ipython",
    "version": 3
   },
   "file_extension": ".py",
   "mimetype": "text/x-python",
   "name": "python",
   "nbconvert_exporter": "python",
   "pygments_lexer": "ipython3",
   "version": "3.12.2"
  }
 },
 "nbformat": 4,
 "nbformat_minor": 5
}
